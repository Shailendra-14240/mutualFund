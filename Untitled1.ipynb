{
 "cells": [
  {
   "cell_type": "code",
   "execution_count": 12,
   "metadata": {},
   "outputs": [],
   "source": [
    "import requests\n",
    "from bs4 import BeautifulSoup\n",
    "import re"
   ]
  },
  {
   "cell_type": "code",
   "execution_count": 13,
   "metadata": {},
   "outputs": [],
   "source": [
    "def extract_url(url):\n",
    "\n",
    "    if url.find(\"www.amazon.in\") != -1:\n",
    "        index = url.find(\"/dp/\")\n",
    "        if index != -1:\n",
    "            index2 = index + 14\n",
    "            url = \"https://www.amazon.in\" + url[index:index2]\n",
    "        else:\n",
    "            index = url.find(\"/gp/\")\n",
    "            if index != -1:\n",
    "                index2 = index + 22\n",
    "                url = \"https://www.amazon.in\" + url[index:index2]\n",
    "            else:\n",
    "                url = None\n",
    "    else:\n",
    "        url = None\n",
    "    return url"
   ]
  },
  {
   "cell_type": "code",
   "execution_count": 14,
   "metadata": {},
   "outputs": [],
   "source": [
    "headers = { \"Mozilla/5.0 (Windows NT 10.0; Win64; x64) AppleWebKit/537.36 (KHTML, like Gecko) Chrome/80.0.3987.132 Safari/537.36\"}\n"
   ]
  },
  {
   "cell_type": "code",
   "execution_count": 15,
   "metadata": {},
   "outputs": [],
   "source": [
    "def get_converted_price(price):\n",
    "    stripped_price = price.strip(\"₹ ,\")\n",
    "    replaced_price = stripped_price.replace(\",\", \"\")\n",
    "    find_dot = replaced_price.find(\".\")\n",
    "    to_convert_price = replaced_price[0:find_dot]\n",
    "    converted_price = int(to_convert_price)\n",
    "\n",
    "    return converted_price"
   ]
  },
  {
   "cell_type": "code",
   "execution_count": 16,
   "metadata": {},
   "outputs": [],
   "source": [
    "def get_converted_price(price):\n",
    "\n",
    "    # stripped_price = price.strip(\"₹ ,\")\n",
    "    # replaced_price = stripped_price.replace(\",\", \"\")\n",
    "    # find_dot = replaced_price.find(\".\")\n",
    "    # to_convert_price = replaced_price[0:find_dot]\n",
    "    # converted_price = int(to_convert_price)\n",
    "    converted_price = float(re.sub(r\"[^\\d.]\", \"\", price)) # Thanks to https://medium.com/@oorjahalt\n",
    "    return converted_price"
   ]
  },
  {
   "cell_type": "code",
   "execution_count": 17,
   "metadata": {},
   "outputs": [
    {
     "ename": "NameError",
     "evalue": "name 'url' is not defined",
     "output_type": "error",
     "traceback": [
      "\u001b[1;31m---------------------------------------------------------------------------\u001b[0m",
      "\u001b[1;31mNameError\u001b[0m                                 Traceback (most recent call last)",
      "\u001b[1;32m<ipython-input-17-aad322c14069>\u001b[0m in \u001b[0;36m<module>\u001b[1;34m\u001b[0m\n\u001b[1;32m----> 1\u001b[1;33m \u001b[0m_url\u001b[0m \u001b[1;33m=\u001b[0m \u001b[0mextract_url\u001b[0m\u001b[1;33m(\u001b[0m\u001b[0murl\u001b[0m\u001b[1;33m)\u001b[0m\u001b[1;33m\u001b[0m\u001b[1;33m\u001b[0m\u001b[0m\n\u001b[0m\u001b[0;32m      2\u001b[0m \u001b[1;32mif\u001b[0m \u001b[0m_url\u001b[0m \u001b[1;32mis\u001b[0m \u001b[1;32mNone\u001b[0m\u001b[1;33m:\u001b[0m\u001b[1;33m\u001b[0m\u001b[1;33m\u001b[0m\u001b[0m\n\u001b[0;32m      3\u001b[0m     \u001b[0mdetails\u001b[0m \u001b[1;33m=\u001b[0m \u001b[1;32mNone\u001b[0m\u001b[1;33m\u001b[0m\u001b[1;33m\u001b[0m\u001b[0m\n\u001b[0;32m      4\u001b[0m \u001b[0mpage\u001b[0m \u001b[1;33m=\u001b[0m \u001b[0mrequests\u001b[0m\u001b[1;33m.\u001b[0m\u001b[0mget\u001b[0m\u001b[1;33m(\u001b[0m\u001b[0murl\u001b[0m\u001b[1;33m,\u001b[0m \u001b[0mheaders\u001b[0m\u001b[1;33m=\u001b[0m\u001b[0mheaders\u001b[0m\u001b[1;33m)\u001b[0m\u001b[1;33m\u001b[0m\u001b[1;33m\u001b[0m\u001b[0m\n\u001b[0;32m      5\u001b[0m \u001b[0msoup\u001b[0m \u001b[1;33m=\u001b[0m \u001b[0mBeautifulSoup\u001b[0m\u001b[1;33m(\u001b[0m\u001b[0mpage\u001b[0m\u001b[1;33m.\u001b[0m\u001b[0mcontent\u001b[0m\u001b[1;33m,\u001b[0m \u001b[1;34m\"html5lib\"\u001b[0m\u001b[1;33m)\u001b[0m\u001b[1;33m\u001b[0m\u001b[1;33m\u001b[0m\u001b[0m\n",
      "\u001b[1;31mNameError\u001b[0m: name 'url' is not defined"
     ]
    }
   ],
   "source": [
    "_url = extract_url(url)\n",
    "if _url is None:\n",
    "    details = None\n",
    "page = requests.get(url, headers=headers)\n",
    "soup = BeautifulSoup(page.content, \"html5lib\")\n",
    "title = soup.find(id=\"productTitle\")\n",
    "price = soup.find(id=\"priceblock_dealprice\")\n",
    "if price is None:\n",
    "    price = soup.find(id=\"priceblock_ourprice\")\n",
    "    details[\"deal\"] = False\n",
    "if title is not None and price is not None:\n",
    "    details[\"name\"] = title.get_text().strip()\n",
    "    details[\"price\"] = get_converted_price(price.get_text())\n",
    "    details[\"url\"] = _url"
   ]
  },
  {
   "cell_type": "code",
   "execution_count": 18,
   "metadata": {},
   "outputs": [],
   "source": [
    "def get_product_details(url):\n",
    "    headers = {\n",
    "        \"User-Agent\": \"Mozilla/5.0 (Windows NT 10.0; Win64; x64) AppleWebKit/537.36 (KHTML, like Gecko) Chrome/80.0.3987.132 Safari/537.36\"\n",
    "    }\n",
    "    details = {\"name\": \"\", \"price\": 0, \"deal\": True, \"url\": \"\"}\n",
    "    _url = extract_url(url)\n",
    "    print(_url)\n",
    "    if _url == \"\":\n",
    "        details = None\n",
    "    else:\n",
    "        page = requests.get(url, headers=headers)\n",
    "        print(page)\n",
    "        soup = BeautifulSoup(page.content, \"html.parser\")\n",
    "        title = soup.find(id=\"productTitle\")\n",
    "        price = soup.find(id=\"priceblock_dealprice\")\n",
    "        if price is None:\n",
    "            price = soup.find(id=\"priceblock_ourprice\")\n",
    "            details[\"deal\"] = False\n",
    "        if title is not None and price is not None:\n",
    "            details[\"name\"] = title.get_text().strip()\n",
    "            details[\"price\"] = get_converted_price(price.get_text())\n",
    "            details[\"url\"] = _url\n",
    "        else:\n",
    "            return None\n",
    "    return details"
   ]
  },
  {
   "cell_type": "code",
   "execution_count": 19,
   "metadata": {},
   "outputs": [
    {
     "name": "stdout",
     "output_type": "stream",
     "text": [
      "https://www.amazon.in/gp/product/B01GFPGHSM\n",
      "<Response [200]>\n"
     ]
    },
    {
     "data": {
      "text/plain": [
       "{'name': 'Samsung 23.5 inch (59.8 cm) Curved LED Backlit Computer Monitor - Full HD, VA Panel with VGA, HDMI, Audio Ports - LC24F390FHWXXL (Black)',\n",
       " 'price': 10470.0,\n",
       " 'deal': False,\n",
       " 'url': 'https://www.amazon.in/gp/product/B01GFPGHSM'}"
      ]
     },
     "execution_count": 19,
     "metadata": {},
     "output_type": "execute_result"
    }
   ],
   "source": [
    "get_product_details(\"https://www.amazon.in/gp/product/B01GFPGHSM/ref=ox_sc_act_title_3?smid=A14CZOWI0VEHLG&psc=1\")"
   ]
  },
  {
   "cell_type": "code",
   "execution_count": null,
   "metadata": {},
   "outputs": [],
   "source": []
  }
 ],
 "metadata": {
  "kernelspec": {
   "display_name": "Python 3",
   "language": "python",
   "name": "python3"
  },
  "language_info": {
   "codemirror_mode": {
    "name": "ipython",
    "version": 3
   },
   "file_extension": ".py",
   "mimetype": "text/x-python",
   "name": "python",
   "nbconvert_exporter": "python",
   "pygments_lexer": "ipython3",
   "version": "3.6.8"
  },
  "toc": {
   "base_numbering": 1,
   "nav_menu": {},
   "number_sections": true,
   "sideBar": true,
   "skip_h1_title": false,
   "title_cell": "Table of Contents",
   "title_sidebar": "Contents",
   "toc_cell": false,
   "toc_position": {},
   "toc_section_display": true,
   "toc_window_display": false
  }
 },
 "nbformat": 4,
 "nbformat_minor": 2
}
